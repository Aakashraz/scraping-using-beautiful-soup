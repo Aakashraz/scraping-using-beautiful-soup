{
 "cells": [
  {
   "cell_type": "code",
   "id": "674e939817de5380",
   "metadata": {
    "ExecuteTime": {
     "end_time": "2024-07-26T18:38:54.244338Z",
     "start_time": "2024-07-26T18:38:52.201814Z"
    }
   },
   "source": [
    "from bs4 import BeautifulSoup\n",
    "import requests\n",
    "\n",
    "req = requests.get('https://www.century21.com/real-estate/phoenix-az/LCAZPHOENIX')\n",
    "contents = req.content\n",
    "soup = BeautifulSoup(contents, 'html.parser')\n",
    "# print(soup.prettify())\n",
    "\n",
    "find_all = soup.findAll('div', {\"class\": \"card\"})\n",
    "list_for_csv = []\n",
    "# print(find_all[0].prettify())\n",
    "# here dict is used for extracting the content into CSV file instead of print. Hence, it's commented.\n",
    "for items in find_all:    \n",
    "    d= {}\n",
    "    d[\"price\"] = items.find('span', {\"class\": \"badge\"}).text.strip()\n",
    "    # strip() will remove any whitespaces near the text.\n",
    "    # print(currency)\n",
    "    address = items.find('p', {\"class\": \"property-address\"}).find('strong').text\n",
    "    address1 = items.find('span', {\"class\": \"property-location\"}).text\n",
    "    d[\"address\"] = address + \", \" + address1\n",
    "    # print(address)\n",
    "    # print(address1)\n",
    "    try:\n",
    "        d[\"beds\"] = items.find('div', {\"class\": \"property-spec beds\"}).text.strip()\n",
    "        # print(beds)\n",
    "    except Exception as e:\n",
    "        d[\"beds\"] = None\n",
    "        # print(\"None\")\n",
    "        print(f\"Exception: {e}\")\n",
    "    try:\n",
    "        d[\"full_bathrooms\"] = items.find('span', {\"class\": \"specs-number full-baths\"}).text\n",
    "        # print(f\"{full_baths}full bathrooms\")\n",
    "    except Exception as e:\n",
    "        d[\"full_bathrooms\"] = None\n",
    "        # print(\"None\")\n",
    "        print(f\"Exception: {e}\")\n",
    "    try:\n",
    "        d[\"area\"] = items.find('div', {\"class\": \"square-footage\"}).text.strip()\n",
    "        # print(area, \"\\n\")\n",
    "    except Exception as e:\n",
    "        d[\"area\"] = None\n",
    "        # print(\"None\")\n",
    "        print(f\"Exception: {e}\")\n",
    "        \n",
    "    list_for_csv.append(d)\n",
    "    "
   ],
   "outputs": [
    {
     "name": "stdout",
     "output_type": "stream",
     "text": [
      "Exception: 'NoneType' object has no attribute 'text'\n"
     ]
    }
   ],
   "execution_count": 18
  },
  {
   "metadata": {
    "ExecuteTime": {
     "end_time": "2024-07-26T18:39:14.154743Z",
     "start_time": "2024-07-26T18:39:14.149796Z"
    }
   },
   "cell_type": "code",
   "source": "print(list_for_csv)",
   "id": "226ba7585827a17d",
   "outputs": [
    {
     "name": "stdout",
     "output_type": "stream",
     "text": [
      "[{'price': '$750,000', 'address': '1456 E Mulberry Street, Phoenix, AZ 85014', 'beds': '4 beds', 'full_bathrooms': None, 'area': '1,950 sq.ft.'}, {'price': '$599,900', 'address': '3406 E LIBBY Street, Phoenix, AZ 85032', 'beds': '3 beds', 'full_bathrooms': '2 ', 'area': '1,560 sq.ft.'}, {'price': '$1,249,999', 'address': '48407 N 27TH Avenue, New River, AZ 85087', 'beds': '6 beds', 'full_bathrooms': '4 ', 'area': '5,595 sq.ft.'}, {'price': '$592,999', 'address': '39212 N 3RD Avenue, Phoenix, AZ 85086', 'beds': '4 beds', 'full_bathrooms': '3 ', 'area': '2,664 sq.ft.'}, {'price': '$750,000', 'address': '4626 E VILLA MARIA Drive, Phoenix, AZ 85032', 'beds': '3 beds', 'full_bathrooms': '2 ', 'area': '1,902 sq.ft.'}, {'price': '$750,000', 'address': '4573 E THISTLE LANDING Drive, Phoenix, AZ 85044', 'beds': '5 beds', 'full_bathrooms': '4 ', 'area': '3,270 sq.ft.'}, {'price': '$4,350,000', 'address': '3807 N 55TH Place, Phoenix, AZ 85018', 'beds': '6 beds', 'full_bathrooms': '5 ', 'area': '5,178 sq.ft.'}, {'price': '$668,880', 'address': '3131 N CENTRAL Avenue 3012, Phoenix, AZ 85012', 'beds': '2 beds', 'full_bathrooms': '2 ', 'area': '1,419 sq.ft.'}, {'price': '$564,668', 'address': '3131 N CENTRAL Avenue 3013, Phoenix, AZ 85012', 'beds': '2 beds', 'full_bathrooms': '2 ', 'area': '1,125 sq.ft.'}, {'price': '$499,900', 'address': '3131 N CENTRAL Avenue 3014, Phoenix, AZ 85012', 'beds': '2 beds', 'full_bathrooms': '2 ', 'area': '1,125 sq.ft.'}, {'price': '$680,517', 'address': '3131 N CENTRAL Avenue 3015, Phoenix, AZ 85012', 'beds': '2 beds', 'full_bathrooms': '2 ', 'area': '1,363 sq.ft.'}, {'price': '$650,000', 'address': '3131 N CENTRAL Avenue 3018, Phoenix, AZ 85012', 'beds': '2 beds', 'full_bathrooms': '2 ', 'area': '1,419 sq.ft.'}, {'price': '$540,000', 'address': '3131 N CENTRAL Avenue 3022, Phoenix, AZ 85012', 'beds': '2 beds', 'full_bathrooms': '2 ', 'area': '1,125 sq.ft.'}, {'price': '$525,000', 'address': '3131 N CENTRAL Avenue 4014, Phoenix, AZ 85012', 'beds': '2 beds', 'full_bathrooms': '2 ', 'area': '1,125 sq.ft.'}, {'price': '$696,772', 'address': '3131 N CENTRAL Avenue 5012, Phoenix, AZ 85012', 'beds': '2 beds', 'full_bathrooms': '2 ', 'area': '1,419 sq.ft.'}, {'price': '$543,000', 'address': '3131 N CENTRAL Avenue 5013, Phoenix, AZ 85012', 'beds': '2 beds', 'full_bathrooms': '2 ', 'area': '1,125 sq.ft.'}, {'price': '$533,000', 'address': '3131 N CENTRAL Avenue 4013, Phoenix, AZ 85012', 'beds': '2 beds', 'full_bathrooms': '2 ', 'area': '1,125 sq.ft.'}, {'price': '$561,668', 'address': '3131 N CENTRAL Avenue 5021, Phoenix, AZ 85012', 'beds': '2 beds', 'full_bathrooms': '2 ', 'area': '1,125 sq.ft.'}, {'price': '$709,900', 'address': '3131 N CENTRAL Avenue 6012, Phoenix, AZ 85012', 'beds': '2 beds', 'full_bathrooms': '2 ', 'area': '1,419 sq.ft.'}, {'price': '$572,768', 'address': '3131 N CENTRAL Avenue 6013, Phoenix, AZ 85012', 'beds': '2 beds', 'full_bathrooms': '2 ', 'area': '1,125 sq.ft.'}, {'price': '$869,900', 'address': '41411 N ANTHEM RIDGE Drive, Anthem, AZ 85086', 'beds': '3 beds', 'full_bathrooms': '4 ', 'area': '2,991 sq.ft.'}, {'price': '$719,990', 'address': '2933 W TUMBLEWEED Drive, Phoenix, AZ 85085', 'beds': '4 beds', 'full_bathrooms': '3 ', 'area': '2,422 sq.ft.'}, {'price': '$489,000', 'address': '46 W Northern Avenue, Phoenix, AZ 85021', 'beds': '2 beds', 'full_bathrooms': '2 ', 'area': '1,798 sq.ft.'}, {'price': '$2,150,000', 'address': '3804 E CAMELBACK Road, Phoenix, AZ 85018', 'beds': '4 beds', 'full_bathrooms': '4 ', 'area': '4,764 sq.ft.'}]\n"
     ]
    }
   ],
   "execution_count": 19
  },
  {
   "metadata": {
    "ExecuteTime": {
     "end_time": "2024-07-26T18:47:55.956101Z",
     "start_time": "2024-07-26T18:47:55.935314Z"
    }
   },
   "cell_type": "code",
   "source": [
    "import pandas as pd\n",
    "df = pd.DataFrame(list_for_csv)\n",
    "# to sort the column headers alphabetically\n",
    "df = df.reindex(sorted(df.columns), axis=1)\n",
    "df.to_csv('century_output.csv')\n"
   ],
   "id": "ce2c534d443757c5",
   "outputs": [],
   "execution_count": 25
  },
  {
   "metadata": {},
   "cell_type": "code",
   "outputs": [],
   "execution_count": null,
   "source": "",
   "id": "8ccb2eb821a25e2"
  }
 ],
 "metadata": {
  "kernelspec": {
   "display_name": "Python 3 (ipykernel)",
   "language": "python",
   "name": "python3"
  },
  "language_info": {
   "codemirror_mode": {
    "name": "ipython",
    "version": 3
   },
   "file_extension": ".py",
   "mimetype": "text/x-python",
   "name": "python",
   "nbconvert_exporter": "python",
   "pygments_lexer": "ipython3",
   "version": "3.12.0"
  }
 },
 "nbformat": 4,
 "nbformat_minor": 5
}
